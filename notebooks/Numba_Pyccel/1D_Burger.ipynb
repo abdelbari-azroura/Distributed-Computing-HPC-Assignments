{
  "nbformat": 4,
  "nbformat_minor": 0,
  "metadata": {
    "colab": {
      "name": "Burger_1D.ipynb",
      "provenance": [],
      "collapsed_sections": []
    },
    "kernelspec": {
      "name": "python3",
      "display_name": "Python 3"
    }
  },
  "cells": [
    {
      "cell_type": "code",
      "metadata": {
        "colab": {
          "base_uri": "https://localhost:8080/"
        },
        "id": "YwzPi3tF_Lwq",
        "outputId": "8af9b5a7-66e0-45be-ac7c-a1ba9fd95218"
      },
      "source": [
        "import numpy as np\n",
        "import matplotlib.pyplot as plt\n",
        "import time\n",
        "!pip install pyccel\n",
        "!pip install numba\n",
        "from numba import njit\n",
        "from pyccel.epyccel import epyccel\n",
        "from pyccel.decorators import types\n",
        "import sympy as sp\n",
        "from sympy.utilities.lambdify import lambdify\n",
        "from sympy import init_printing\n",
        "init_printing(use_latex=True)\n",
        "\n"
      ],
      "execution_count": null,
      "outputs": [
        {
          "output_type": "stream",
          "text": [
            "Requirement already satisfied: pyccel in /usr/local/lib/python3.6/dist-packages (1.0.0)\n",
            "Requirement already satisfied: termcolor in /usr/local/lib/python3.6/dist-packages (from pyccel) (1.1.0)\n",
            "Requirement already satisfied: sympy>=1.2 in /usr/local/lib/python3.6/dist-packages (from pyccel) (1.7.1)\n",
            "Requirement already satisfied: numpy in /usr/local/lib/python3.6/dist-packages (from pyccel) (1.18.5)\n",
            "Requirement already satisfied: textx>=1.6 in /usr/local/lib/python3.6/dist-packages (from pyccel) (2.3.0)\n",
            "Requirement already satisfied: mpmath>=0.19 in /usr/local/lib/python3.6/dist-packages (from sympy>=1.2->pyccel) (1.1.0)\n",
            "Requirement already satisfied: Arpeggio>=1.9.0 in /usr/local/lib/python3.6/dist-packages (from textx>=1.6->pyccel) (1.10.1)\n",
            "Requirement already satisfied: numba in /usr/local/lib/python3.6/dist-packages (0.48.0)\n",
            "Requirement already satisfied: llvmlite<0.32.0,>=0.31.0dev0 in /usr/local/lib/python3.6/dist-packages (from numba) (0.31.0)\n",
            "Requirement already satisfied: numpy>=1.15 in /usr/local/lib/python3.6/dist-packages (from numba) (1.18.5)\n",
            "Requirement already satisfied: setuptools in /usr/local/lib/python3.6/dist-packages (from numba) (50.3.2)\n"
          ],
          "name": "stdout"
        }
      ]
    },
    {
      "cell_type": "code",
      "metadata": {
        "id": "r06oysIOxypx"
      },
      "source": [
        "def solve_1d_burger_pure(u, un, nt, nx, dt, dx, nu):\n",
        "  for n in range(nt):\n",
        "    for j in range(nx):\n",
        "      un[j]=u[j]\n",
        "    for i in range(1,nx-1):\n",
        "      u[i]=un[i]+nu*(dt/(dx**2))*(un[i+1]-2*un[i]+un[i-1])-un[i]*(dt/dx)*(un[i]-un[i-1])\n",
        "  return 0\n",
        "        "
      ],
      "execution_count": null,
      "outputs": []
    },
    {
      "cell_type": "code",
      "metadata": {
        "id": "oTu9GLSgyQOr"
      },
      "source": [
        "@njit\n",
        "def solve_1d_burger_numba(u, un, nt, nx, dt, dx, nu):\n",
        "  for n in range(nt):\n",
        "    for j in range(nx):\n",
        "      un[j]=u[j]\n",
        "    for i in range(1,nx-1):\n",
        "      u[i]=un[i]+nu*(dt/(dx**2))*(un[i+1]-2*un[i]+un[i-1])-un[i]*(dt/dx)*(un[i]-un[i-1])\n",
        "  return 0"
      ],
      "execution_count": null,
      "outputs": []
    },
    {
      "cell_type": "code",
      "metadata": {
        "id": "zCrCdZJP4E-2"
      },
      "source": [
        "@types('float[:]','float[:]','int','int','float','float','float')\n",
        "def solve_1d_burger_pyccel(u, un, nt, nx, dt, dx, nu):\n",
        "  for n in range(nt):\n",
        "    for j in range(nx):\n",
        "      un[j]=u[j]\n",
        "    for i in range(1,nx-1):\n",
        "      u[i]=un[i]+nu*(dt/(dx**2))*(un[i+1]-2*un[i]+un[i-1])-un[i]*(dt/dx)*(un[i]-un[i-1])\n",
        "  return 0\n",
        "        "
      ],
      "execution_count": null,
      "outputs": []
    },
    {
      "cell_type": "code",
      "metadata": {
        "id": "g8EQCGWq8nPS"
      },
      "source": [
        ""
      ],
      "execution_count": null,
      "outputs": []
    },
    {
      "cell_type": "markdown",
      "metadata": {
        "id": "Sp8CXLNm8x46"
      },
      "source": [
        "**Input **\n"
      ]
    },
    {
      "cell_type": "code",
      "metadata": {
        "id": "BVYS5UU180hw"
      },
      "source": [
        "#sympy computation\n",
        "x, nu, t = sp.symbols('x nu t')\n",
        "phi = (sp.exp(-(x - 4 * t)**2 / (4 * nu * (t + 1))) +\n",
        "       sp.exp(-(x - 4 * t - 2 * sp.pi)**2 / (4 * nu * (t + 1))))\n",
        "\n",
        "phiprime = phi.diff(x)\n",
        "u = -2 * nu * (phiprime / phi) + 4\n",
        "ufunc = lambdify((t, x, nu), u)"
      ],
      "execution_count": null,
      "outputs": []
    },
    {
      "cell_type": "code",
      "metadata": {
        "id": "kiiDhEdc9Bha"
      },
      "source": [
        "###variable declarations\n",
        "nx = 201\n",
        "nt = 100\n",
        "dx = 2 * np.pi / (nx - 1)\n",
        "nu = .07\n",
        "dt = dx * nu\n",
        "\n",
        "x = np.linspace(0, 2 * np.pi, nx)\n",
        "un = np.empty(nx)\n",
        "t = 0"
      ],
      "execution_count": null,
      "outputs": []
    },
    {
      "cell_type": "code",
      "metadata": {
        "id": "q0UG26Bq9Gxf"
      },
      "source": [
        ""
      ],
      "execution_count": null,
      "outputs": []
    },
    {
      "cell_type": "markdown",
      "metadata": {
        "id": "5GL8F6lc9LQj"
      },
      "source": [
        "**Plot initial condition** "
      ]
    },
    {
      "cell_type": "code",
      "metadata": {
        "colab": {
          "base_uri": "https://localhost:8080/",
          "height": 269
        },
        "id": "of1VHgng9Ser",
        "outputId": "ba0df38c-242d-46c4-c1bd-9c271a149a16"
      },
      "source": [
        "u = np.asarray([ufunc(t, x0, nu) for x0 in x])\n",
        "plt.figure()\n",
        "plt.plot(x, u, marker='o', lw=2)\n",
        "plt.xlim([0, 2 * np.pi])\n",
        "plt.ylim([0, 10]);\n",
        "\n"
      ],
      "execution_count": null,
      "outputs": [
        {
          "output_type": "display_data",
          "data": {
            "image/png": "[encoded data removed]",
            "text/plain": [
              "<Figure size 432x288 with 1 Axes>"
            ]
          },
          "metadata": {
            "tags": [],
            "needs_background": "light"
          }
        }
      ]
    },
    {
      "cell_type": "code",
      "metadata": {
        "colab": {
          "base_uri": "https://localhost:8080/",
          "height": 269
        },
        "id": "7zepz9fp9fPK",
        "outputId": "120c819a-500f-40d7-f73b-1e5c49739b16"
      },
      "source": [
        "solve_1d_burger_pure(u, un, nt, nx, dt, dx, nu)\n",
        "\n",
        "# Analytical solution\n",
        "u_analytical = np.asarray([ufunc(nt * dt, xi, nu) for xi in x])\n",
        "\n",
        "\n",
        "#Plotting data\n",
        "plt.figure()\n",
        "plt.plot(x,u, marker='o', lw=2, label='Computational')\n",
        "plt.plot(x, u_analytical, label='Analytical')\n",
        "plt.xlim([0, 2 * np.pi])\n",
        "plt.ylim([0, 10])\n",
        "plt.legend();"
      ],
      "execution_count": null,
      "outputs": [
        {
          "output_type": "display_data",
          "data": {
            "image/png": "[encoded data removed]",
            "text/plain": [
              "<Figure size 432x288 with 1 Axes>"
            ]
          },
          "metadata": {
            "tags": [],
            "needs_background": "light"
          }
        }
      ]
    },
    {
      "cell_type": "code",
      "metadata": {
        "id": "2OX9-XGJ9jOC"
      },
      "source": [
        ""
      ],
      "execution_count": null,
      "outputs": []
    }
  ]
}
