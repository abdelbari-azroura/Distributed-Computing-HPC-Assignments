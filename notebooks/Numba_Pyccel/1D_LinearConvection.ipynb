{
  "nbformat": 4,
  "nbformat_minor": 0,
  "metadata": {
    "colab": {
      "name": "Copie de LinerConvection_1D.ipynb",
      "provenance": []
    },
    "kernelspec": {
      "name": "python3",
      "display_name": "Python 3"
    }
  },
  "cells": [
    {
      "cell_type": "code",
      "metadata": {
        "colab": {
          "base_uri": "https://localhost:8080/"
        },
        "id": "rZ8igxot2utj",
        "outputId": "5d005bcc-b8b0-482d-8fb5-cbb68e47a301"
      },
      "source": [
        "import numpy as np\n",
        "import matplotlib.pyplot as plt\n",
        "import time\n",
        "!pip install pyccel\n",
        "!pip install numba\n",
        "from numba import njit\n",
        "from pyccel.epyccel import epyccel\n",
        "from pyccel.decorators import types"
      ],
      "execution_count": null,
      "outputs": [
        {
          "output_type": "stream",
          "text": [
            "Collecting pyccel\n",
            "\u001b[?25l  Downloading https://files.pythonhosted.org/packages/33/46/33863723fbf853d8edd19a63dedae8530b79f3e428f41e5de013592fac96/pyccel-1.0.0-py3-none-any.whl (240kB)\n",
            "\r\u001b[K     |█▍                              | 10kB 16.4MB/s eta 0:00:01\r\u001b[K     |██▊                             | 20kB 22.4MB/s eta 0:00:01\r\u001b[K     |████                            | 30kB 18.6MB/s eta 0:00:01\r\u001b[K     |█████▌                          | 40kB 10.5MB/s eta 0:00:01\r\u001b[K     |██████▉                         | 51kB 7.0MB/s eta 0:00:01\r\u001b[K     |████████▏                       | 61kB 7.5MB/s eta 0:00:01\r\u001b[K     |█████████▌                      | 71kB 8.2MB/s eta 0:00:01\r\u001b[K     |███████████                     | 81kB 8.4MB/s eta 0:00:01\r\u001b[K     |████████████▎                   | 92kB 8.1MB/s eta 0:00:01\r\u001b[K     |█████████████▋                  | 102kB 8.3MB/s eta 0:00:01\r\u001b[K     |███████████████                 | 112kB 8.3MB/s eta 0:00:01\r\u001b[K     |████████████████▍               | 122kB 8.3MB/s eta 0:00:01\r\u001b[K     |█████████████████▊              | 133kB 8.3MB/s eta 0:00:01\r\u001b[K     |███████████████████             | 143kB 8.3MB/s eta 0:00:01\r\u001b[K     |████████████████████▌           | 153kB 8.3MB/s eta 0:00:01\r\u001b[K     |█████████████████████▉          | 163kB 8.3MB/s eta 0:00:01\r\u001b[K     |███████████████████████▏        | 174kB 8.3MB/s eta 0:00:01\r\u001b[K     |████████████████████████▌       | 184kB 8.3MB/s eta 0:00:01\r\u001b[K     |██████████████████████████      | 194kB 8.3MB/s eta 0:00:01\r\u001b[K     |███████████████████████████▎    | 204kB 8.3MB/s eta 0:00:01\r\u001b[K     |████████████████████████████▋   | 215kB 8.3MB/s eta 0:00:01\r\u001b[K     |██████████████████████████████  | 225kB 8.3MB/s eta 0:00:01\r\u001b[K     |███████████████████████████████▍| 235kB 8.3MB/s eta 0:00:01\r\u001b[K     |████████████████████████████████| 245kB 8.3MB/s \n",
            "\u001b[?25hRequirement already satisfied: numpy in /usr/local/lib/python3.6/dist-packages (from pyccel) (1.18.5)\n",
            "Collecting sympy>=1.2\n",
            "\u001b[?25l  Downloading https://files.pythonhosted.org/packages/ff/69/b16fc81b939d3efdd0b552f2e3e54f7fa1423d0c320cced2e69e675dde26/sympy-1.7.1-py3-none-any.whl (5.9MB)\n",
            "\u001b[K     |████████████████████████████████| 5.9MB 13.3MB/s \n",
            "\u001b[?25hCollecting textx>=1.6\n",
            "\u001b[?25l  Downloading https://files.pythonhosted.org/packages/1e/4d/ca516d5600744166c3e1d2f8ff8d2483cda7193c37c534710cbe073c6d44/textX-2.3.0-py2.py3-none-any.whl (72kB)\n",
            "\u001b[K     |████████████████████████████████| 81kB 8.9MB/s \n",
            "\u001b[?25hRequirement already satisfied: termcolor in /usr/local/lib/python3.6/dist-packages (from pyccel) (1.1.0)\n",
            "Requirement already satisfied: mpmath>=0.19 in /usr/local/lib/python3.6/dist-packages (from sympy>=1.2->pyccel) (1.1.0)\n",
            "Collecting Arpeggio>=1.9.0\n",
            "\u001b[?25l  Downloading https://files.pythonhosted.org/packages/23/53/17533fe707ee55f562138bfa5255427fa44728f5764fd95cd122fe20346b/Arpeggio-1.10.1-py2.py3-none-any.whl (54kB)\n",
            "\u001b[K     |████████████████████████████████| 61kB 7.2MB/s \n",
            "\u001b[?25hInstalling collected packages: sympy, Arpeggio, textx, pyccel\n",
            "  Found existing installation: sympy 1.1.1\n",
            "    Uninstalling sympy-1.1.1:\n",
            "      Successfully uninstalled sympy-1.1.1\n",
            "Successfully installed Arpeggio-1.10.1 pyccel-1.0.0 sympy-1.7.1 textx-2.3.0\n",
            "Requirement already satisfied: numba in /usr/local/lib/python3.6/dist-packages (0.48.0)\n",
            "Requirement already satisfied: llvmlite<0.32.0,>=0.31.0dev0 in /usr/local/lib/python3.6/dist-packages (from numba) (0.31.0)\n",
            "Requirement already satisfied: numpy>=1.15 in /usr/local/lib/python3.6/dist-packages (from numba) (1.18.5)\n",
            "Requirement already satisfied: setuptools in /usr/local/lib/python3.6/dist-packages (from numba) (50.3.2)\n"
          ],
          "name": "stdout"
        }
      ]
    },
    {
      "cell_type": "code",
      "metadata": {
        "id": "7ZsufiiC3IAm"
      },
      "source": [
        "def solve_1d_linearconv_pure(u,un, nt, nx, dt, dx, c):\n",
        "  for n in range(nt):\n",
        "    for j in range(nx):\n",
        "      un[j]=u[j]\n",
        "    for i in range(1,nx):\n",
        "      u[i]=un[i]-c*(dt/dx)*(un[i]-un[i-1])\n",
        "  return 0"
      ],
      "execution_count": null,
      "outputs": []
    },
    {
      "cell_type": "code",
      "metadata": {
        "id": "v0ZOfby93Mz1"
      },
      "source": [
        "@njit\n",
        "def solve_1d_linearconv_numba(u,un,  nt, nx, dt, dx, c):\n",
        "  for n in range(nt):\n",
        "    for j in range(nx):\n",
        "      un[j]=u[j]\n",
        "    for i in range(1,nx):\n",
        "      u[i]=un[i]-c*(dt/dx)*(un[i]-un[i-1])\n",
        "  return 0"
      ],
      "execution_count": null,
      "outputs": []
    },
    {
      "cell_type": "code",
      "metadata": {
        "id": "-vpeVEAp3P1M"
      },
      "source": [
        "@types('float[:]','float[:]','int','int','float','float','float')\n",
        "def solve_1d_linearconv_pyccel(u,un, nt, nx, dt, dx, c):\n",
        "  for n in range(nt):\n",
        "    for j in range(nx):\n",
        "      un[j]=u[j]\n",
        "    for i in range(1,nx):\n",
        "      u[i]=un[i]-c*(dt/dx)*(un[i]-un[i-1])\n",
        "  return 0\n"
      ],
      "execution_count": null,
      "outputs": []
    },
    {
      "cell_type": "code",
      "metadata": {
        "colab": {
          "base_uri": "https://localhost:8080/",
          "height": 312
        },
        "id": "fLaMX3Hd3XO0",
        "outputId": "6d7d20aa-7df5-4c03-c2fa-cff59a1915c6"
      },
      "source": [
        "nx = 41  # try changing this number from 41 to 81 and Run All ... what happens?\n",
        "dx = 2 / (nx-1)\n",
        "nt = 200    #nt is the number of timesteps we want to calculate\n",
        "c = 1.      #assume wavespeed of c = 1\n",
        "dt = 0.004\n",
        "grid = np.linspace(0,2,nx) # creating the space grid    \n",
        "\n",
        "u0 = np.ones(nx)      #numpy function ones()\n",
        "u0[int(.5 / dx):int(1 / dx + 1)] = 2  #setting u = 2 between 0.5 and 1 as per our I.C.s\n",
        "plt.plot(grid,u0)\n",
        "u = u0.copy()\n",
        "un = np.ones(nx)\n",
        "\n",
        "solve_1d_linearconv_pure(u,un, nt, nx, dt, dx, c)\n",
        "#Plotting data\n",
        "plt.plot(grid,u);\n",
        "plt.ylim([1.,2.2])\n",
        "plt.xlabel('X')\n",
        "plt.ylabel('Velocity')    \n",
        "plt.title('1D Linear Convection')"
      ],
      "execution_count": null,
      "outputs": [
        {
          "output_type": "execute_result",
          "data": {
            "text/plain": [
              "Text(0.5, 1.0, '1D Linear Convection')"
            ]
          },
          "metadata": {
            "tags": []
          },
          "execution_count": 8
        },
        {
          "output_type": "display_data",
          "data": {
            "image/png": "[encoded data removed]",
            "text/plain": [
              "<Figure size 432x288 with 1 Axes>"
            ]
          },
          "metadata": {
            "tags": [],
            "needs_background": "light"
          }
        }
      ]
    },
    {
      "cell_type": "code",
      "metadata": {
        "colab": {
          "base_uri": "https://localhost:8080/",
          "height": 312
        },
        "id": "PTMmc4_A3azA",
        "outputId": "af996860-7e5a-44e7-f6fa-1051317b92b7"
      },
      "source": [
        "nx = 81  # try changing this number from 41 to 81 and Run All ... what happens?\n",
        "dx = 2 / (nx-1)\n",
        "nt = 200    #nt is the number of timesteps we want to calculate\n",
        "c = 1.      #assume wavespeed of c = 1\n",
        "dt = 0.004\n",
        "grid = np.linspace(0,2,nx) # creating the space grid    \n",
        "\n",
        "u0 = np.ones(nx)      #numpy function ones()\n",
        "u0[int(.5 / dx):int(1 / dx + 1)] = 2  #setting u = 2 between 0.5 and 1 as per our I.C.s\n",
        "plt.plot(grid,u0)\n",
        "u = u0.copy()\n",
        "un = np.ones(nx)\n",
        "\n",
        "solve_1d_linearconv_pure(u,un, nt, nx, dt, dx, c)\n",
        "#Plotting data\n",
        "plt.plot(grid,u);\n",
        "plt.ylim([1.,2.2])\n",
        "plt.xlabel('X')\n",
        "plt.ylabel('Velocity')    \n",
        "plt.title('1D Linear Convection')"
      ],
      "execution_count": null,
      "outputs": [
        {
          "output_type": "execute_result",
          "data": {
            "text/plain": [
              "Text(0.5, 1.0, '1D Linear Convection')"
            ]
          },
          "metadata": {
            "tags": []
          },
          "execution_count": 9
        },
        {
          "output_type": "display_data",
          "data": {
            "image/png": "[encoded data removed]",
            "text/plain": [
              "<Figure size 432x288 with 1 Axes>"
            ]
          },
          "metadata": {
            "tags": [],
            "needs_background": "light"
          }
        }
      ]
    },
    {
      "cell_type": "code",
      "metadata": {
        "colab": {
          "base_uri": "https://localhost:8080/",
          "height": 312
        },
        "id": "1ZFixRyk3d7_",
        "outputId": "06d08682-5c0b-4283-8a9b-dcf9abac7c69"
      },
      "source": [
        "nx = 401  # try changing this number from 41 to 81 and Run All ... what happens?\n",
        "dx = 2 / (nx-1)\n",
        "nt = 200    #nt is the number of timesteps we want to calculate\n",
        "c = 1.      #assume wavespeed of c = 1\n",
        "dt = 0.004\n",
        "grid = np.linspace(0,2,nx) # creating the space grid    \n",
        "\n",
        "u0 = np.ones(nx)      #numpy function ones()\n",
        "u0[int(.5 / dx):int(1 / dx + 1)] = 2  #setting u = 2 between 0.5 and 1 as per our I.C.s\n",
        "plt.plot(grid,u0)\n",
        "u = u0.copy()\n",
        "un = np.ones(nx)\n",
        "\n",
        "solve_1d_linearconv_pure(u,un, nt, nx, dt, dx, c)\n",
        "#Plotting data\n",
        "plt.plot(grid,u);\n",
        "plt.ylim([1.,2.2])\n",
        "plt.xlabel('X')\n",
        "plt.ylabel('Velocity')    \n",
        "plt.title('1D Linear Convection')"
      ],
      "execution_count": null,
      "outputs": [
        {
          "output_type": "execute_result",
          "data": {
            "text/plain": [
              "Text(0.5, 1.0, '1D Linear Convection')"
            ]
          },
          "metadata": {
            "tags": []
          },
          "execution_count": 10
        },
        {
          "output_type": "display_data",
          "data": {
            "image/png": "[encoded data removed]",
            "text/plain": [
              "<Figure size 432x288 with 1 Axes>"
            ]
          },
          "metadata": {
            "tags": [],
            "needs_background": "light"
          }
        }
      ]
    },
    {
      "cell_type": "code",
      "metadata": {
        "colab": {
          "base_uri": "https://localhost:8080/",
          "height": 312
        },
        "id": "ngwQCkyR3gw8",
        "outputId": "61700888-6d61-4359-c262-101cc85dc660"
      },
      "source": [
        "nx =201  # try changing this number from 41 to 81 and Run All ... what happens?\n",
        "dx = 2 / (nx-1)\n",
        "nt = 200    #nt is the number of timesteps we want to calculate\n",
        "c = 1.      #assume wavespeed of c = 1\n",
        "dt = 0.004\n",
        "grid = np.linspace(0,2,nx) # creating the space grid    \n",
        "\n",
        "u0 = np.ones(nx)      #numpy function ones()\n",
        "u0[int(.5 / dx):int(1 / dx + 1)] = 2  #setting u = 2 between 0.5 and 1 as per our I.C.s\n",
        "plt.plot(grid,u0)\n",
        "u = u0.copy()\n",
        "un = np.ones(nx)\n",
        "\n",
        "solve_1d_linearconv_pure(u,un, nt, nx, dt, dx, c)\n",
        "#Plotting data\n",
        "plt.plot(grid,u);\n",
        "plt.ylim([1.,2.2])\n",
        "plt.xlabel('X')\n",
        "plt.ylabel('Velocity')    \n",
        "plt.title('1D Linear Convection')"
      ],
      "execution_count": null,
      "outputs": [
        {
          "output_type": "execute_result",
          "data": {
            "text/plain": [
              "Text(0.5, 1.0, '1D Linear Convection')"
            ]
          },
          "metadata": {
            "tags": []
          },
          "execution_count": 11
        },
        {
          "output_type": "display_data",
          "data": {
            "image/png": "[encoded data removed]",
            "text/plain": [
              "<Figure size 432x288 with 1 Axes>"
            ]
          },
          "metadata": {
            "tags": [],
            "needs_background": "light"
          }
        }
      ]
    },
    {
      "cell_type": "code",
      "metadata": {
        "colab": {
          "base_uri": "https://localhost:8080/"
        },
        "id": "3y8F5f5r3j1H",
        "outputId": "835d1953-7d1f-49b7-feb1-34e2989d9ee8"
      },
      "source": [
        "%timeit solve_1d_linearconv_pure(u, un, nt, nx, dt, dx, c)"
      ],
      "execution_count": null,
      "outputs": [
        {
          "output_type": "stream",
          "text": [
            "10 loops, best of 3: 41.3 ms per loop\n"
          ],
          "name": "stdout"
        }
      ]
    },
    {
      "cell_type": "code",
      "metadata": {
        "colab": {
          "base_uri": "https://localhost:8080/"
        },
        "id": "8CFymTW_3n_0",
        "outputId": "d15d8546-6f4c-43a4-e117-c13ea5383d91"
      },
      "source": [
        "%timeit solve_1d_linearconv_numba(u, un, nt, nx, dt, dx, c)"
      ],
      "execution_count": null,
      "outputs": [
        {
          "output_type": "stream",
          "text": [
            "The slowest run took 30509.47 times longer than the fastest. This could mean that an intermediate result is being cached.\n",
            "1 loop, best of 3: 15.2 µs per loop\n"
          ],
          "name": "stdout"
        }
      ]
    },
    {
      "cell_type": "code",
      "metadata": {
        "id": "C0oSk44f3slp"
      },
      "source": [
        "solve_1d_linearconv_f90 = epyccel(solve_1d_linearconv_pyccel)"
      ],
      "execution_count": null,
      "outputs": []
    },
    {
      "cell_type": "code",
      "metadata": {
        "colab": {
          "base_uri": "https://localhost:8080/"
        },
        "id": "qhvl5AdY3vaB",
        "outputId": "12a23a99-2465-4e0d-c65e-90c3f74769d0"
      },
      "source": [
        "%timeit solve_1d_linearconv_f90(u, un, nt, nx, dt, dx, c)"
      ],
      "execution_count": null,
      "outputs": [
        {
          "output_type": "stream",
          "text": [
            "10000 loops, best of 3: 71.4 µs per loop\n"
          ],
          "name": "stdout"
        }
      ]
    }
  ]
}
