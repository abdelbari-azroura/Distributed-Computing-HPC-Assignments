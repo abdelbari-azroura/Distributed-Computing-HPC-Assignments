{
  "nbformat": 4,
  "nbformat_minor": 0,
  "metadata": {
    "colab": {
      "name": "Copie de Untitled1.ipynb",
      "provenance": []
    },
    "kernelspec": {
      "name": "python3",
      "display_name": "Python 3"
    }
  },
  "cells": [
    {
      "cell_type": "code",
      "metadata": {
        "colab": {
          "base_uri": "https://localhost:8080/"
        },
        "id": "pkBTWWd35GVu",
        "outputId": "8db6cb92-5950-460c-cf1c-5c52349696ba"
      },
      "source": [
        "import numpy as np\n",
        "import matplotlib.pyplot as plt\n",
        "import time\n",
        "!pip install pyccel\n",
        "!pip install numba\n",
        "from numba import njit\n",
        "from pyccel.epyccel import epyccel\n",
        "from pyccel.decorators import types"
      ],
      "execution_count": null,
      "outputs": [
        {
          "output_type": "stream",
          "text": [
            "Collecting pyccel\n",
            "\u001b[?25l  Downloading https://files.pythonhosted.org/packages/33/46/33863723fbf853d8edd19a63dedae8530b79f3e428f41e5de013592fac96/pyccel-1.0.0-py3-none-any.whl (240kB)\n",
            "\r\u001b[K     |█▍                              | 10kB 15.6MB/s eta 0:00:01\r\u001b[K     |██▊                             | 20kB 21.2MB/s eta 0:00:01\r\u001b[K     |████                            | 30kB 11.0MB/s eta 0:00:01\r\u001b[K     |█████▌                          | 40kB 9.0MB/s eta 0:00:01\r\u001b[K     |██████▉                         | 51kB 4.4MB/s eta 0:00:01\r\u001b[K     |████████▏                       | 61kB 4.5MB/s eta 0:00:01\r\u001b[K     |█████████▌                      | 71kB 5.1MB/s eta 0:00:01\r\u001b[K     |███████████                     | 81kB 5.2MB/s eta 0:00:01\r\u001b[K     |████████████▎                   | 92kB 5.6MB/s eta 0:00:01\r\u001b[K     |█████████████▋                  | 102kB 5.9MB/s eta 0:00:01\r\u001b[K     |███████████████                 | 112kB 5.9MB/s eta 0:00:01\r\u001b[K     |████████████████▍               | 122kB 5.9MB/s eta 0:00:01\r\u001b[K     |█████████████████▊              | 133kB 5.9MB/s eta 0:00:01\r\u001b[K     |███████████████████             | 143kB 5.9MB/s eta 0:00:01\r\u001b[K     |████████████████████▌           | 153kB 5.9MB/s eta 0:00:01\r\u001b[K     |█████████████████████▉          | 163kB 5.9MB/s eta 0:00:01\r\u001b[K     |███████████████████████▏        | 174kB 5.9MB/s eta 0:00:01\r\u001b[K     |████████████████████████▌       | 184kB 5.9MB/s eta 0:00:01\r\u001b[K     |██████████████████████████      | 194kB 5.9MB/s eta 0:00:01\r\u001b[K     |███████████████████████████▎    | 204kB 5.9MB/s eta 0:00:01\r\u001b[K     |████████████████████████████▋   | 215kB 5.9MB/s eta 0:00:01\r\u001b[K     |██████████████████████████████  | 225kB 5.9MB/s eta 0:00:01\r\u001b[K     |███████████████████████████████▍| 235kB 5.9MB/s eta 0:00:01\r\u001b[K     |████████████████████████████████| 245kB 5.9MB/s \n",
            "\u001b[?25hRequirement already satisfied: numpy in /usr/local/lib/python3.6/dist-packages (from pyccel) (1.18.5)\n",
            "Collecting textx>=1.6\n",
            "\u001b[?25l  Downloading https://files.pythonhosted.org/packages/1e/4d/ca516d5600744166c3e1d2f8ff8d2483cda7193c37c534710cbe073c6d44/textX-2.3.0-py2.py3-none-any.whl (72kB)\n",
            "\u001b[K     |████████████████████████████████| 81kB 8.0MB/s \n",
            "\u001b[?25hCollecting sympy>=1.2\n",
            "\u001b[?25l  Downloading https://files.pythonhosted.org/packages/ff/69/b16fc81b939d3efdd0b552f2e3e54f7fa1423d0c320cced2e69e675dde26/sympy-1.7.1-py3-none-any.whl (5.9MB)\n",
            "\u001b[K     |████████████████████████████████| 5.9MB 25.4MB/s \n",
            "\u001b[?25hRequirement already satisfied: termcolor in /usr/local/lib/python3.6/dist-packages (from pyccel) (1.1.0)\n",
            "Collecting Arpeggio>=1.9.0\n",
            "\u001b[?25l  Downloading https://files.pythonhosted.org/packages/23/53/17533fe707ee55f562138bfa5255427fa44728f5764fd95cd122fe20346b/Arpeggio-1.10.1-py2.py3-none-any.whl (54kB)\n",
            "\u001b[K     |████████████████████████████████| 61kB 6.2MB/s \n",
            "\u001b[?25hRequirement already satisfied: mpmath>=0.19 in /usr/local/lib/python3.6/dist-packages (from sympy>=1.2->pyccel) (1.1.0)\n",
            "Installing collected packages: Arpeggio, textx, sympy, pyccel\n",
            "  Found existing installation: sympy 1.1.1\n",
            "    Uninstalling sympy-1.1.1:\n",
            "      Successfully uninstalled sympy-1.1.1\n",
            "Successfully installed Arpeggio-1.10.1 pyccel-1.0.0 sympy-1.7.1 textx-2.3.0\n",
            "Requirement already satisfied: numba in /usr/local/lib/python3.6/dist-packages (0.48.0)\n",
            "Requirement already satisfied: numpy>=1.15 in /usr/local/lib/python3.6/dist-packages (from numba) (1.18.5)\n",
            "Requirement already satisfied: llvmlite<0.32.0,>=0.31.0dev0 in /usr/local/lib/python3.6/dist-packages (from numba) (0.31.0)\n",
            "Requirement already satisfied: setuptools in /usr/local/lib/python3.6/dist-packages (from numba) (50.3.2)\n"
          ],
          "name": "stdout"
        }
      ]
    },
    {
      "cell_type": "code",
      "metadata": {
        "id": "ClTlyKWD5ilr"
      },
      "source": [
        "def solve_1d_nonlinearconv_pure(u,un, nt, nx, dt, dx):\n",
        "  for n in range(nt):\n",
        "    for j in range(nx):\n",
        "      un[j]=u[j]\n",
        "    for i in range(1,nx):\n",
        "      u[i]=un[i]-un[i]*(dt/dx)*(un[i]-un[i-1])\n",
        "  return 0"
      ],
      "execution_count": null,
      "outputs": []
    },
    {
      "cell_type": "code",
      "metadata": {
        "id": "DfKj-iVL5lcB"
      },
      "source": [
        "@njit\n",
        "def solve_1d_nonlinearconv_numba(u,un,  nt, nx, dt, dx):\n",
        "  for n in range(nt):\n",
        "    for j in range(nx):\n",
        "      un[j]=u[j]\n",
        "    for i in range(1,nx):\n",
        "      u[i]=un[i]-un[i]*(dt/dx)*(un[i]-un[i-1])\n",
        "  return 0"
      ],
      "execution_count": null,
      "outputs": []
    },
    {
      "cell_type": "code",
      "metadata": {
        "id": "qFc6JgWt5pcA"
      },
      "source": [
        "@types('float[:]','float[:]','int','int','float','float','float')\n",
        "def solve_1d_nonlinearconv_pyccel(u,un, nt, nx, dt, dx):\n",
        "  for n in range(nt):\n",
        "    for j in range(nx):\n",
        "      un[j]=u[j]\n",
        "    for i in range(1,nx):\n",
        "      u[i]=un[i]-un[i]*(dt/dx)*(un[i]-un[i-1])\n",
        "  return 0"
      ],
      "execution_count": null,
      "outputs": []
    },
    {
      "cell_type": "code",
      "metadata": {
        "colab": {
          "base_uri": "https://localhost:8080/",
          "height": 312
        },
        "id": "_RCteCVN5ulN",
        "outputId": "18462eee-d8d5-4201-9631-70804e3be83d"
      },
      "source": [
        "nx = 91  \n",
        "dx = 2 / (nx-1)\n",
        "nt = 10    #nt is the number of timesteps we want to calculate\n",
        "dt = 0.001\n",
        "grid = np.linspace(0,2,nx) # creating the space grid    \n",
        "\n",
        "u0 = np.ones(nx)      #numpy function ones()\n",
        "u0[int(.5 / dx):int(1 / dx + 1)] = 2  #setting u = 2 between 0.5 and 1 as per our I.C.s\n",
        "plt.plot(grid,u0)\n",
        "u = u0.copy()\n",
        "un = np.ones(nx)\n",
        "\n",
        "solve_1d_nonlinearconv_pure(u, un, nt, nx, dt, dx)\n",
        "#Plotting data\n",
        "plt.plot(grid,u);\n",
        "plt.ylim([1.,2.2])\n",
        "plt.xlabel('X')\n",
        "plt.ylabel('Velocity')    \n",
        "plt.title('1D Linear Convection')"
      ],
      "execution_count": null,
      "outputs": [
        {
          "output_type": "execute_result",
          "data": {
            "text/plain": [
              "Text(0.5, 1.0, '1D Linear Convection')"
            ]
          },
          "metadata": {
            "tags": []
          },
          "execution_count": 5
        },
        {
          "output_type": "display_data",
          "data": {
            "image/png": "[encoded data removed]",
            "text/plain": [
              "<Figure size 432x288 with 1 Axes>"
            ]
          },
          "metadata": {
            "tags": [],
            "needs_background": "light"
          }
        }
      ]
    },
    {
      "cell_type": "code",
      "metadata": {
        "colab": {
          "base_uri": "https://localhost:8080/"
        },
        "id": "WT75aVpG5yZc",
        "outputId": "d4ac710e-886c-497f-c187-aacaa2f7e5e3"
      },
      "source": [
        "%timeit solve_1d_nonlinearconv_pure(u, un, nt, nx, dt, dx)"
      ],
      "execution_count": null,
      "outputs": [
        {
          "output_type": "stream",
          "text": [
            "1000 loops, best of 3: 1.13 ms per loop\n"
          ],
          "name": "stdout"
        }
      ]
    },
    {
      "cell_type": "code",
      "metadata": {
        "colab": {
          "base_uri": "https://localhost:8080/"
        },
        "id": "f5EQ2JBp50Ph",
        "outputId": "5defb324-ddbf-4dd2-9bb1-7df18f632abb"
      },
      "source": [
        "%timeit solve_1d_nonlinearconv_numba(u, un, nt, nx, dt, dx)\n"
      ],
      "execution_count": null,
      "outputs": [
        {
          "output_type": "stream",
          "text": [
            "The slowest run took 319721.55 times longer than the fastest. This could mean that an intermediate result is being cached.\n",
            "1 loop, best of 3: 1.3 µs per loop\n"
          ],
          "name": "stdout"
        }
      ]
    },
    {
      "cell_type": "code",
      "metadata": {
        "colab": {
          "base_uri": "https://localhost:8080/"
        },
        "id": "eTXD0wGU51Zg",
        "outputId": "3ca7a33b-ee83-4342-c2af-40dfa9d3f713"
      },
      "source": [
        "solve_1d_nonlinearconv_f90 = epyccel(solve_1d_nonlinearconv_pyccel)"
      ],
      "execution_count": null,
      "outputs": [
        {
          "output_type": "stream",
          "text": [
            "\u001b[1mpyccel\u001b[0m:\n",
            " |\u001b[5m\u001b[32mwarning\u001b[0m [semantic]: mod_2ku3dbw0.py| The number of arguments in the function solve_1d_nonlinearconv_pyccel (6) does not match the number of types in decorator/header (7). ((u, un, nt, nx, dt, dx))\n",
            "\n"
          ],
          "name": "stdout"
        }
      ]
    },
    {
      "cell_type": "code",
      "metadata": {
        "colab": {
          "base_uri": "https://localhost:8080/"
        },
        "id": "KOzzHHM954Ae",
        "outputId": "1a22c74c-c75b-4633-d90e-455748e8ae27"
      },
      "source": [
        "%timeit solve_1d_nonlinearconv_f90(u, un, nt, nx, dt, dx)"
      ],
      "execution_count": null,
      "outputs": [
        {
          "output_type": "stream",
          "text": [
            "The slowest run took 6.69 times longer than the fastest. This could mean that an intermediate result is being cached.\n",
            "1000000 loops, best of 3: 1.53 µs per loop\n"
          ],
          "name": "stdout"
        }
      ]
    }
  ]
}
